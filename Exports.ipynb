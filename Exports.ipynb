{
 "cells": [
  {
   "cell_type": "code",
   "execution_count": 3,
   "id": "f2206638-26a9-427a-9ef4-067e2bedd307",
   "metadata": {},
   "outputs": [],
   "source": [
    "import requests\n",
    "from bs4 import BeautifulSoup as bs, Tag\n",
    "import re\n",
    "import pandas as pd\n",
    "import time"
   ]
  },
  {
   "cell_type": "code",
   "execution_count": 5,
   "id": "5ab79ac2-c734-4538-b24c-a9a1fbe96917",
   "metadata": {},
   "outputs": [],
   "source": [
    "url = 'https://en.wikipedia.org/wiki/List_of_countries_by_exports'\n",
    "page = requests.get(url)\n",
    "response = requests.get(url)\n",
    "html = response.text\n",
    "status = response.status_code\n",
    "if status == 200:\n",
    "    page = response.text\n",
    "    soup = bs(page)\n",
    "else:\n",
    "    print(f\"Oops! Received status code {status}\")"
   ]
  },
  {
   "cell_type": "code",
   "execution_count": 13,
   "id": "a056e267-e926-4d8a-97a6-b0d1d396f1e6",
   "metadata": {},
   "outputs": [],
   "source": [
    " table = soup.find_all('table')[0]\n"
   ]
  },
  {
   "cell_type": "code",
   "execution_count": 15,
   "id": "6a9cead6-db39-497c-80f6-05748ca38556",
   "metadata": {},
   "outputs": [
    {
     "data": {
      "text/plain": [
       "[<th>Country\n",
       " </th>,\n",
       " <th>Exports\n",
       " </th>,\n",
       " <th>Year\n",
       " </th>,\n",
       " <th>Top goods export (2021)<sup class=\"reference\" id=\"cite_ref-2\"><a href=\"#cite_note-2\"><span class=\"cite-bracket\">[</span>2<span class=\"cite-bracket\">]</span></a></sup><sup class=\"noprint Inline-Template\" style=\"white-space:nowrap;\">[<i><a href=\"/wiki/Wikipedia:Manual_of_Style/Dates_and_numbers#Chronological_items\" title=\"Wikipedia:Manual of Style/Dates and numbers\"><span title=\"2022 data is available; see source given (January 2025)\">needs update</span></a></i>]</sup>\n",
       " </th>]"
      ]
     },
     "execution_count": 15,
     "metadata": {},
     "output_type": "execute_result"
    }
   ],
   "source": [
    "column_names = table.find_all('th')\n",
    "column_names"
   ]
  },
  {
   "cell_type": "code",
   "execution_count": 19,
   "id": "ec06b0b0-fe60-4c65-a0aa-aa5eb64777c1",
   "metadata": {},
   "outputs": [
    {
     "data": {
      "text/plain": [
       "['Country', 'Exports', 'Year', 'Top goods export (2021)[2][needs update]']"
      ]
     },
     "execution_count": 19,
     "metadata": {},
     "output_type": "execute_result"
    }
   ],
   "source": [
    "column_names = [title.text.strip() for title in column_names]\n",
    "column_names"
   ]
  },
  {
   "cell_type": "code",
   "execution_count": 49,
   "id": "05a061b3-ff6d-4137-a883-7573979f4ac2",
   "metadata": {},
   "outputs": [
    {
     "name": "stdout",
     "output_type": "stream",
     "text": [
      "['Country', 'Exports', 'Year', 'Top goods export (2021)']\n"
     ]
    }
   ],
   "source": [
    "def clean_text(text):\n",
    "    # Remove all [bracketed text]\n",
    "    return re.sub(r'\\[.*?\\]', '', text).strip()\n",
    "\n",
    "cleaned_headers = [clean_text(h) for h in column_names]\n"
   ]
  },
  {
   "cell_type": "code",
   "execution_count": 59,
   "id": "abcb538f-4e96-4e4e-8ed1-d53a1f3478cc",
   "metadata": {},
   "outputs": [
    {
     "data": {
      "text/html": [
       "<div>\n",
       "<style scoped>\n",
       "    .dataframe tbody tr th:only-of-type {\n",
       "        vertical-align: middle;\n",
       "    }\n",
       "\n",
       "    .dataframe tbody tr th {\n",
       "        vertical-align: top;\n",
       "    }\n",
       "\n",
       "    .dataframe thead th {\n",
       "        text-align: right;\n",
       "    }\n",
       "</style>\n",
       "<table border=\"1\" class=\"dataframe\">\n",
       "  <thead>\n",
       "    <tr style=\"text-align: right;\">\n",
       "      <th></th>\n",
       "      <th>Country</th>\n",
       "      <th>Exports</th>\n",
       "      <th>Year</th>\n",
       "      <th>Top goods export (2021)</th>\n",
       "    </tr>\n",
       "  </thead>\n",
       "  <tbody>\n",
       "  </tbody>\n",
       "</table>\n",
       "</div>"
      ],
      "text/plain": [
       "Empty DataFrame\n",
       "Columns: [Country, Exports, Year, Top goods export (2021)]\n",
       "Index: []"
      ]
     },
     "execution_count": 59,
     "metadata": {},
     "output_type": "execute_result"
    }
   ],
   "source": [
    "df = pd.DataFrame(columns = cleaned_headers)\n",
    "df\n"
   ]
  },
  {
   "cell_type": "code",
   "execution_count": 29,
   "id": "1c1f060a-c7b3-4cb5-8aa0-237f776d9143",
   "metadata": {},
   "outputs": [],
   "source": [
    "data_row = table.find_all('tr')"
   ]
  },
  {
   "cell_type": "code",
   "execution_count": 67,
   "id": "32d396ac-19bd-4aad-bc74-19486de61941",
   "metadata": {},
   "outputs": [
    {
     "name": "stdout",
     "output_type": "stream",
     "text": [
      "[['China', '3,511,248', '2023', 'Broadcasting equipment'], ['United States', '3,051,824', '2023', 'Petroleum'], ['Germany', '2,104,251', '2023', 'Cars'], ['United Kingdom', '1,074,781', '2023', 'Gold'], ['France', '1,051,679', '2023', 'Packaged medications'], ['Netherlands', '949,983', '2023', 'Petroleum'], ['Japan', '920,737', '2023', 'Cars'], ['Italy', '793,588', '2023', 'Packaged medications'], ['Singapore', '778,000', '2023', 'Integrated circuits'], ['India', '773,223', '2023', 'Petroleum'], ['South Korea', '769,534', '2023', 'Integrated circuits'], ['United Arab Emirates', '753,000', '2022', 'Petroleum'], ['Ireland', '731,813', '2023', 'Serums and vaccines'], ['Canada', '717,677', '2023', 'Petroleum'], ['Hong Kong (CN)', '673,305', '2023', 'Integrated circuits'], ['Switzerland', '661,627', '2023', 'Gold'], ['Mexico', '649,312', '2023', 'Cars'], ['Spain', '615,829', '2023', 'Cars'], ['Taiwan', '536,128', '2022', 'Integrated circuits'], ['Belgium', '535,173', '2023', 'Vaccines'], ['Poland', '469,264', '2023', 'Car parts'], ['Russia', '465,432', '2023', 'Petroleum'], ['Australia', '447,506', '2023', 'Iron ore'], ['Brazil', '389,625', '2023', 'Iron ore'], ['Vietnam', '374,265', '2023', 'Broadcasting equipment'], ['Saudi Arabia', '370,973', '2023', 'Petroleum'], ['Turkey', '352,514', '2023', 'Cars'], ['Thailand', '336,871', '2023', 'Data processing equipment'], ['Norway', '321,076', '2022', 'Petroleum'], ['Indonesia', '315,924', '2022', 'Coal'], ['Sweden', '310,493', '2022', 'Cars'], ['Malaysia', '299,656', '2022', 'Integrated circuits'], ['Denmark', '273,868', '2022', 'Packaged medications'], ['Austria', '268,277', '2022', 'Cars'], ['Czech Republic', '217,731', '2022', 'Cars'], ['Israel', '166,098', '2022', 'Diamonds'], ['Luxembourg', '163,585', '2022', 'Iron'], ['Qatar', '161,693', '2022', 'Petroleum'], ['Hungary', '161,609', '2022', 'Cars'], ['South Africa', '135,951', '2022', 'Platinum'], ['Romania', '129,165', '2022', 'Cars'], ['Finland', '125,788', '2022', 'Paper'], ['Slovakia', '114,157', '2022', 'Cars'], ['Kuwait', '110,923', '2022', 'Petroleum'], ['Chile', '107,077', '2022', 'Copper'], ['Greece', '105,756', '2022', 'Petroleum'], ['Portugal', '105,648', '2021', 'Cars'], ['Argentina', '102,947', '2022', 'Soybeans'], ['Philippines', '98,518', '2022', 'Integrated circuits'], ['Kazakhstan', '94,052', '2022', 'Petroleum'], ['Iraq', '78,260', '2022', 'Petroleum'], ['Iran', '76,917', '2022', 'Plastic'], ['Egypt', '76,295', '2022', 'Petroleum'], ['Colombia', '72,497', '2022', 'Petroleum'], ['Peru', '71,197', '2022', 'Copper'], ['Nigeria', '69,091', '2022', 'Petroleum'], ['Algeria', '68,664', '2022', 'Petroleum'], ['Lithuania', '61,386', '2022', 'Petroleum'], ['Bulgaria', '60,712', '2022', 'Copper'], ['Bangladesh', '60,138', '2022', 'Clothing'], ['Puerto Rico (US)', '59,787', '2022', ''], ['Morocco', '58,556', '2022', 'Fertilizers'], ['New Zealand', '57,462', '2022', 'Milk'], ['Ukraine', '57,018', '2022', 'Sunflower seed oil'], ['Slovenia', '56,400', '2022', 'Packaged medications'], ['Angola', '50,120', '2022', 'Petroleum'], ['Azerbaijan', '47,274', '2022', 'Petroleum'], ['Belarus', '46,767', '2022', 'Fertilizers'], ['Oman', '46,324', '2021', 'Petroleum'], ['Croatia', '41,952', '2022', 'Petroleum'], ['Serbia', '39,900', '2022', 'Insulated wire'], ['Pakistan', '38,700', '2022', 'Clothing'], ['Ecuador', '36,338', '2022', 'Petroleum'], ['Estonia', '32,511', '2022', 'Wood'], ['Bahrain', '30,097', '2018', 'Aluminium'], ['Latvia', '28,854', '2022', 'Wood'], ['Venezuela', '28,684', '2016', 'Petroleum'], ['Costa Rica', '28,092', '2022', 'Medical instruments'], ['Panama', '27,338', '2021', 'Copper'], ['Macau (CN)', '26,485', '2021', 'Jewelry'], ['Cyprus', '25,951', '2022', 'Boats'], ['Cambodia', '25,497', '2022', 'Clothing'], ['Malta', '25,417', '2022', 'Integrated circuits'], ['Dominican Republic', '25,102', '2022', 'Gold'], ['Ghana', '23,901', '2021', 'Gold'], ['Uruguay', '22,605', '2022', 'Beef'], ['Democratic Republic of the Congo', '22,354', '2021', 'Copper'], ['Uzbekistan', '21,926', '2022', 'Gold'], ['Tunisia', '19,743', '2021', 'Clothing'], ['Syria', '19,605', '2010', 'Olive oil'], ['Myanmar', '17,523', '2019', 'Clothing'], [\"Côte d'Ivoire\", '16,230', '2021', 'Cocoa beans'], ['Guatemala', '15,318', '2021', 'Clothing'], ['Paraguay', '14,970', '2022', 'Soybeans'], ['Bolivia', '14,468', '2022', 'Gold'], ['Jordan', '13,864', '2021', 'Clothing'], ['Sri Lanka', '13,082', '2020', 'Clothing'], ['Iceland', '12,867', '2022', 'Aluminium'], ['Zambia', '12,437', '2022', 'Copper'], ['Kenya', '11,825', '2021', 'Tea'], ['Papua New Guinea', '11,624', '2021', 'Petroleum'], ['Bosnia and Herzegovina', '11,523', '2022', 'Energy'], ['Trinidad and Tobago', '11,467', '2021', 'Petroleum'], ['Brunei', '11,202', '2021', 'Petroleum'], ['Mongolia', '10,989', '2022', 'Copper'], ['Guinea', '10,265', '2021', 'Gold'], ['North Macedonia', '10,150', '2022', 'Automobile catalysts'], ['Lebanon', '10,146', '2021', 'Gold'], ['El Salvador', '10,129', '2022', 'Clothing'], ['Armenia', '9,699', '2022', 'Copper'], ['Libya', '9,537', '2020', 'Petroleum'], ['Ethiopia', '9,496', '2021', 'Coffee'], ['Mozambique', '9,409', '2022', 'Coal'], ['Honduras', '9,243', '2022', 'Clothing'], ['Cuba', '8,769', '2020', 'Cigars'], ['Tanzania', '8,555', '2020', 'Gold'], ['Turkmenistan', '8,164', '2020', 'Petroleum'], ['Georgia', '8,086', '2021', 'Copper'], ['Botswana', '7,930', '2021', 'Diamonds'], ['Nicaragua', '7,870', '2022', 'Clothing'], ['Laos', '7,819', '2021', 'Energy'], ['Cameroon', '7,449', '2021', 'Petroleum'], ['Albania', '7,057', '2022', 'Footwear'], ['Equatorial Guinea', '6,656', '2022', 'Petroleum'], ['Chad', '6,503', '2022', 'Petroleum'], ['Jamaica', '6,424', '2022', 'Aluminium oxide'], ['Burkina Faso', '6,233', '2021', 'Gold'], ['Uganda', '6,177', '2021', 'Gold'], ['Moldova', '5,977', '2022', 'Insulated wire'], ['Sudan', '5,908', '2022', 'Gold'], ['Gabon', '5,390', '2015', 'Petroleum'], ['Mali', '5,381', '2021', 'Gold'], ['Senegal', '5,287', '2018', 'Gold'], ['Zimbabwe', '5,263', '2020', 'Gold'], ['Djibouti', '5,160', '2021', 'Palm oil'], ['Maldives', '5,096', '2022', 'Fish'], ['Namibia', '5,080', '2022', 'Copper'], ['Mauritius', '4,918', '2022', 'Fish'], ['Republic of the Congo', '4,700', '2020', 'Petroleum'], ['South Sudan', '4,652', '2021', 'Petroleum'], ['Guyana', '4,640', '2021', 'Petroleum'], ['Benin', '4,154', '2021', 'Cotton'], ['Cayman Islands (UK)', '3,652', '2020', 'Boats'], ['Kosovo', '3,577', '2022', ''], ['Palestine', '3,544', '2022', 'Stone'], ['San Marino', '3,420', '2021', 'Dish washing machines'], ['Madagascar', '3,341', '2021', 'Vanilla'], ['Kyrgyzstan', '3,292', '2021', 'Gold'], ['Bahamas', '3,202', '2021', 'Petroleum'], ['Mauritania', '3,181', '2021', 'Iron ore'], ['Montenegro', '3,178', '2022', 'Aluminium'], ['Aruba (NL)', '3,004', '2022', 'Petroleum'], ['Rwanda', '2,994', '2022', 'Gold'], ['Nepal', '2,722', '2022', 'Soybean oil'], ['Suriname', '2,599', '2022', 'Gold'], ['Andorra', '2,414', '2021', 'Cars'], ['Fiji', '2,376', '2022', 'Water'], ['Timor-Leste', '2,315', '2021', 'Petroleum'], ['Barbados', '2,228', '2017', 'Rum'], ['Eswatini', '2,131', '2021', 'Soft drink concentrates'], ['New Caledonia (FR)', '1,875', '2016', 'Ferroalloys'], ['Tajikistan', '1,753', '2022', 'Gold'], ['Seychelles', '1,751', '2021', 'Boats'], ['Togo', '1,721', '2020', 'Petroleum'], ['Malawi', '1,538', '2021', 'Tobacco'], ['Niger', '1,487', '2021', 'Gold'], ['Afghanistan', '1,476', '2020', 'Gold'], ['Somalia', '1,363', '2022', 'Goats'], ['Belize', '1,345', '2022', 'Sugarcane'], ['Curaçao (NL)', '1,280', '2021', 'Petroleum'], ['Haiti', '1,241', '2021', 'Clothes'], ['Faroe Islands (DK)', '1,213', '2011', 'Fish'], ['French Polynesia (FR)', '1,202', '2016', 'Pearls'], ['Bermuda (UK)', '1,136', '2021', 'Boats'], ['Sierra Leone', '1,114', '2021', 'Titanium ore'], ['Lesotho', '1,066', '2022', 'Diamonds'], ['Yemen', '938', '2016', 'Petroleum'], ['Cape Verde', '855', '2022', 'Fish'], ['Turks and Caicos Islands (UK)', '827', '2018', 'Molluscs'], ['Bhutan', '791', '2022', 'Ferroalloys'], ['Sint Maarten (NL)', '788', '2021', 'Petroleum'], ['Antigua and Barbuda', '752', '2021', 'Petroleum'], ['Saint Lucia', '711', '2021', 'Petroleum'], ['Liberia', '554', '2019', 'Iron ore'], ['Solomon Islands', '411', '2022', 'Wood'], ['Grenada', '394', '2021', 'Fish'], ['Saint Kitts and Nevis', '393', '2021', 'Broadcasting equipment'], ['Eritrea', '375', '2011', 'Zinc'], ['Guinea-Bissau', '335', '2021', 'Cashews'], ['Central African Republic', '316', '2022', 'Gold'], ['Burundi', '285', '2018', 'Gold'], ['Samoa', '171', '2022', 'Coconut oil'], ['Comoros', '140', '2021', 'Cloves'], ['Saint Vincent and the Grenadines', '138', '2021', 'Boats'], ['Gambia', '135', '2021', 'Cashews'], ['Marshall Islands', '130', '2021', 'Boats'], ['Micronesia', '126', '2014', 'Fish'], ['Dominica', '123', '2021', 'Medical instruments'], ['Vanuatu', '89', '2021', 'Fish'], ['São Tomé and Príncipe', '75', '2021', 'Cocoa beans'], ['Tonga', '60', '2022', 'Shellfish'], ['Nauru', '31', '2018', 'Fish'], ['Palau', '12', '2021', 'Computers'], ['Kiribati', '11', '2021', 'Fish'], ['Tuvalu', '3', '2021', 'Boats']]\n"
     ]
    }
   ],
   "source": [
    " def clean_citations(text):\n",
    "    return re.sub(r'\\[\\d+\\]', '', text).strip()\n",
    "\n",
    "cleaned_data = []\n",
    "\n",
    "for row in data_row[1:]:\n",
    "    if isinstance(row, str):\n",
    "        parsed = bs(row, 'html.parser')\n",
    "    elif isinstance(row, Tag):\n",
    "        parsed = row\n",
    "    else:\n",
    "        continue\n",
    "\n",
    "    row_data = parsed.find_all('td')\n",
    "    table_rows = [clean_citations(data.text) for data in row_data]\n",
    "    cleaned_data.append(table_rows)\n",
    "\n",
    "print(cleaned_data)\n"
   ]
  },
  {
   "cell_type": "code",
   "execution_count": 69,
   "id": "1c245fdf-98a2-4e4c-90f1-06c896e9ce26",
   "metadata": {},
   "outputs": [],
   "source": [
    "for row in cleaned_data:\n",
    "    df.loc[len(df)] = row"
   ]
  },
  {
   "cell_type": "code",
   "execution_count": 77,
   "id": "2934da21-147f-4bfe-8f99-f8d9e0e7d484",
   "metadata": {},
   "outputs": [
    {
     "data": {
      "text/html": [
       "<div>\n",
       "<style scoped>\n",
       "    .dataframe tbody tr th:only-of-type {\n",
       "        vertical-align: middle;\n",
       "    }\n",
       "\n",
       "    .dataframe tbody tr th {\n",
       "        vertical-align: top;\n",
       "    }\n",
       "\n",
       "    .dataframe thead th {\n",
       "        text-align: right;\n",
       "    }\n",
       "</style>\n",
       "<table border=\"1\" class=\"dataframe\">\n",
       "  <thead>\n",
       "    <tr style=\"text-align: right;\">\n",
       "      <th></th>\n",
       "      <th>Country</th>\n",
       "      <th>Exports</th>\n",
       "      <th>Year</th>\n",
       "      <th>Top goods export (2021)</th>\n",
       "    </tr>\n",
       "  </thead>\n",
       "  <tbody>\n",
       "    <tr>\n",
       "      <th>0</th>\n",
       "      <td>China</td>\n",
       "      <td>3,511,248</td>\n",
       "      <td>2023</td>\n",
       "      <td>Broadcasting equipment</td>\n",
       "    </tr>\n",
       "    <tr>\n",
       "      <th>1</th>\n",
       "      <td>United States</td>\n",
       "      <td>3,051,824</td>\n",
       "      <td>2023</td>\n",
       "      <td>Petroleum</td>\n",
       "    </tr>\n",
       "    <tr>\n",
       "      <th>2</th>\n",
       "      <td>Germany</td>\n",
       "      <td>2,104,251</td>\n",
       "      <td>2023</td>\n",
       "      <td>Cars</td>\n",
       "    </tr>\n",
       "    <tr>\n",
       "      <th>3</th>\n",
       "      <td>United Kingdom</td>\n",
       "      <td>1,074,781</td>\n",
       "      <td>2023</td>\n",
       "      <td>Gold</td>\n",
       "    </tr>\n",
       "    <tr>\n",
       "      <th>4</th>\n",
       "      <td>France</td>\n",
       "      <td>1,051,679</td>\n",
       "      <td>2023</td>\n",
       "      <td>Packaged medications</td>\n",
       "    </tr>\n",
       "    <tr>\n",
       "      <th>...</th>\n",
       "      <td>...</td>\n",
       "      <td>...</td>\n",
       "      <td>...</td>\n",
       "      <td>...</td>\n",
       "    </tr>\n",
       "    <tr>\n",
       "      <th>405</th>\n",
       "      <td>Tonga</td>\n",
       "      <td>60</td>\n",
       "      <td>2022</td>\n",
       "      <td>Shellfish</td>\n",
       "    </tr>\n",
       "    <tr>\n",
       "      <th>406</th>\n",
       "      <td>Nauru</td>\n",
       "      <td>31</td>\n",
       "      <td>2018</td>\n",
       "      <td>Fish</td>\n",
       "    </tr>\n",
       "    <tr>\n",
       "      <th>407</th>\n",
       "      <td>Palau</td>\n",
       "      <td>12</td>\n",
       "      <td>2021</td>\n",
       "      <td>Computers</td>\n",
       "    </tr>\n",
       "    <tr>\n",
       "      <th>408</th>\n",
       "      <td>Kiribati</td>\n",
       "      <td>11</td>\n",
       "      <td>2021</td>\n",
       "      <td>Fish</td>\n",
       "    </tr>\n",
       "    <tr>\n",
       "      <th>409</th>\n",
       "      <td>Tuvalu</td>\n",
       "      <td>3</td>\n",
       "      <td>2021</td>\n",
       "      <td>Boats</td>\n",
       "    </tr>\n",
       "  </tbody>\n",
       "</table>\n",
       "<p>410 rows × 4 columns</p>\n",
       "</div>"
      ],
      "text/plain": [
       "            Country    Exports  Year Top goods export (2021)\n",
       "0             China  3,511,248  2023  Broadcasting equipment\n",
       "1     United States  3,051,824  2023               Petroleum\n",
       "2           Germany  2,104,251  2023                    Cars\n",
       "3    United Kingdom  1,074,781  2023                    Gold\n",
       "4            France  1,051,679  2023    Packaged medications\n",
       "..              ...        ...   ...                     ...\n",
       "405           Tonga         60  2022               Shellfish\n",
       "406           Nauru         31  2018                    Fish\n",
       "407           Palau         12  2021               Computers\n",
       "408        Kiribati         11  2021                    Fish\n",
       "409          Tuvalu          3  2021                   Boats\n",
       "\n",
       "[410 rows x 4 columns]"
      ]
     },
     "execution_count": 77,
     "metadata": {},
     "output_type": "execute_result"
    }
   ],
   "source": [
    "df"
   ]
  },
  {
   "cell_type": "code",
   "execution_count": 81,
   "id": "b9372292-aeb1-4bb7-80ea-df6b5620cbb2",
   "metadata": {},
   "outputs": [],
   "source": [
    "df.to_csv(r'C:\\Users\\pmush\\OneDrive\\Desktop\\Data Science Prog\\webscrapping\\exports.csv', index = False)"
   ]
  },
  {
   "cell_type": "code",
   "execution_count": null,
   "id": "17b627b8-fd90-44a5-9965-088c4ccd7c36",
   "metadata": {},
   "outputs": [],
   "source": []
  }
 ],
 "metadata": {
  "kernelspec": {
   "display_name": "Python [conda env:base] *",
   "language": "python",
   "name": "conda-base-py"
  },
  "language_info": {
   "codemirror_mode": {
    "name": "ipython",
    "version": 3
   },
   "file_extension": ".py",
   "mimetype": "text/x-python",
   "name": "python",
   "nbconvert_exporter": "python",
   "pygments_lexer": "ipython3",
   "version": "3.12.3"
  }
 },
 "nbformat": 4,
 "nbformat_minor": 5
}
