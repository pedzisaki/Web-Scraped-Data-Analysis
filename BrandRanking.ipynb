{
 "cells": [
  {
   "cell_type": "markdown",
   "id": "153f99a7-c821-463d-aa46-6ab62d726c6a",
   "metadata": {},
   "source": [
    "### Brand Ranking over 17 years (2007- 2023)\n",
    "\n",
    "This analysis was done with data scrapped from a wikipedia wedpagewith a goal was to explore brand strength and trends over the time period."
   ]
  },
  {
   "cell_type": "code",
   "execution_count": 35,
   "id": "90e9b4a1-de77-41e9-b74d-b37a90b22856",
   "metadata": {},
   "outputs": [],
   "source": [
    "import requests\n",
    "from bs4 import BeautifulSoup as bs, Tag\n",
    "import re\n",
    "import time\n",
    "import pandas as pd\n",
    "import seaborn as sns\n",
    "import matplotlib.pyplot as plt"
   ]
  },
  {
   "cell_type": "code",
   "execution_count": null,
   "id": "bc55b0b7-7cdc-4c28-9826-eb9857e74f23",
   "metadata": {},
   "outputs": [],
   "source": [
    "url = 'https://en.wikipedia.org/wiki/List_of_most_valuable_brands'\n",
    "page = requests.get(url)\n",
    "response = requests.get(url)\n",
    "html = response.text\n",
    "status = response.status_code\n",
    "if status == 200:\n",
    "    page = response.text\n",
    "    soup = bs(page)\n",
    "else:\n",
    "    print(f\"Oops! Received status code {status}\")\n"
   ]
  },
  {
   "cell_type": "code",
   "execution_count": null,
   "id": "7430786b-d357-4bab-b786-026a6e2cceee",
   "metadata": {},
   "outputs": [],
   "source": [
    "table1 = soup.find_all('table')[4]"
   ]
  },
  {
   "cell_type": "code",
   "execution_count": null,
   "id": "4a79bf42-8ea5-4cc2-a413-54c868fc260e",
   "metadata": {},
   "outputs": [],
   "source": [
    "year_num = table1.find_all('th')\n",
    "year_num"
   ]
  },
  {
   "cell_type": "code",
   "execution_count": null,
   "id": "7ce2de51-33a4-414d-b7fb-d1c75cb7325a",
   "metadata": {},
   "outputs": [],
   "source": [
    "#The year numbers are integers in the table\n",
    "year_num = [str(title.text.strip()) for title in year_num]\n",
    "year_num"
   ]
  },
  {
   "cell_type": "code",
   "execution_count": null,
   "id": "31dd0447-c547-4964-bb17-58cdb8ee8bf9",
   "metadata": {},
   "outputs": [],
   "source": [
    "df = pd.DataFrame(columns = year_num)\n",
    "df"
   ]
  },
  {
   "cell_type": "code",
   "execution_count": null,
   "id": "c274b60e-766f-43a0-974c-44ebe9eacaf2",
   "metadata": {},
   "outputs": [],
   "source": [
    "data_row = table1.find_all('tr')\n",
    "\n",
    "\n"
   ]
  },
  {
   "cell_type": "code",
   "execution_count": null,
   "id": "f3962996-2838-4f0e-abc0-bbc7f1eade40",
   "metadata": {},
   "outputs": [],
   "source": [
    "def clean_citations(text):\n",
    "    return re.sub(r'\\[\\d+\\]', '', text).strip()\n",
    "\n",
    "cleaned_data = []\n",
    "\n",
    "for row in data_row[1:]:\n",
    "    if isinstance(row, str):\n",
    "        parsed = bs(row, 'html.parser')\n",
    "    elif isinstance(row, Tag):\n",
    "        parsed = row\n",
    "    else:\n",
    "        continue\n",
    "\n",
    "    row_data = parsed.find_all('td')\n",
    "    table_rows = [clean_citations(data.text) for data in row_data]\n",
    "    cleaned_data.append(table_rows)\n",
    "\n",
    "print(cleaned_data)"
   ]
  },
  {
   "cell_type": "code",
   "execution_count": null,
   "id": "4e5c90b8-14b5-4f98-9ab2-c92449b9e40e",
   "metadata": {},
   "outputs": [],
   "source": [
    "#This will add one row at a time, ensuring that it matches the number of columns in df.\n",
    "# add each row of cleaned_data individually, you can do this in a loop\n",
    "\n",
    "for row in cleaned_data:\n",
    "    df.loc[len(df)] = row"
   ]
  },
  {
   "cell_type": "code",
   "execution_count": null,
   "id": "37500e99-b2b6-45b5-a5c1-c6b8a6f90f3b",
   "metadata": {},
   "outputs": [],
   "source": [
    "df"
   ]
  },
  {
   "cell_type": "code",
   "execution_count": 56,
   "id": "8f6e70e9-b1a1-432f-8c19-669b8918a813",
   "metadata": {},
   "outputs": [
    {
     "name": "stdout",
     "output_type": "stream",
     "text": [
      "Values occurring in every row: {'Google', 'Microsoft'}\n"
     ]
    }
   ],
   "source": [
    "#reduce() is like a loop that combines all rows two at a time\n",
    "# x and y are two lists/sets from the DataFrame.\n",
    "#set(x) & set(y) means: find the intersection of the two sets.\n",
    "#This is used to find the common elements across all rows.\n",
    "\n",
    "from functools import reduce\n",
    "\n",
    "common_values = reduce(lambda x, y: set(x) & set(y), df.values.tolist())\n",
    "print(\"Values occurring in every row:\", common_values)"
   ]
  },
  {
   "cell_type": "code",
   "execution_count": 45,
   "id": "8b8e4129-d6e3-4f91-8a18-1c8ec63f37cb",
   "metadata": {},
   "outputs": [
    {
     "name": "stdout",
     "output_type": "stream",
     "text": [
      "Google              17\n",
      "Microsoft           17\n",
      "Apple Inc.          16\n",
      "McDonald's          16\n",
      "IBM                 11\n",
      "Visa Inc.           11\n",
      "Coca-Cola           10\n",
      "Amazon               9\n",
      "Marlboro             9\n",
      "AT&T                 9\n",
      "China Mobile         7\n",
      "Tencent              7\n",
      "Facebook             7\n",
      "Alibaba Group        5\n",
      "General Electric     5\n",
      "Mastercard           3\n",
      "Verizon              3\n",
      "Vodafone             2\n",
      "Louis Vuitton        2\n",
      "Nokia                1\n",
      "Toyota               1\n",
      "Citigroup            1\n",
      "Walmart              1\n",
      "Name: count, dtype: int64\n"
     ]
    }
   ],
   "source": [
    "# use location and indexing to exclude the years column on index 0\n",
    "selected_cols = df.iloc[:, 1:11]\n",
    "\n",
    "# Flatten the selected data\n",
    "value_counts = selected_cols.values.ravel()\n",
    "\n",
    "# Convert to Series and count values\n",
    "value_series = pd.Series(value_counts)\n",
    "counts = value_series.value_counts()\n",
    "\n",
    "print(counts)"
   ]
  },
  {
   "cell_type": "code",
   "execution_count": 51,
   "id": "07ac6bc2-6523-470a-ae7b-813c4163725f",
   "metadata": {},
   "outputs": [
    {
     "data": {
      "image/png": "[encoded data removed]",
      "text/plain": [
       "<Figure size 1000x600 with 2 Axes>"
      ]
     },
     "metadata": {},
     "output_type": "display_data"
    }
   ],
   "source": [
    "# Pivot table for heatmap\n",
    "heat_df = df_long.pivot(index='Company', columns='Year', values='Rank')\n",
    "\n",
    "# Filter top companies\n",
    "heat_df = heat_df.loc[top_companies]\n",
    "\n",
    "# Plot heatmap\n",
    "plt.figure(figsize=(10, 6))\n",
    "sns.heatmap(heat_df, annot=True, cmap='YlGnBu', cbar_kws={'label': 'Rank'}, linewidths=0.5)\n",
    "plt.title('Company Rank Over Time')\n",
    "plt.xlabel('Year')\n",
    "plt.ylabel('Company')\n",
    "plt.xticks(rotation=45)\n",
    "plt.gca().invert_yaxis()  # Rank 1 at top\n",
    "plt.show()\n"
   ]
  },
  {
   "cell_type": "markdown",
   "id": "ea532339-969d-415d-9e01-78f20269fa74",
   "metadata": {},
   "source": [
    "## Question ##\n",
    "#### Which of the valuable brands have stayed in the ranking in the 17-year period? ####\n",
    "\n",
    "### Answer ###\n",
    "* the values that are occuring in all of the 17 rows which represent years are Google and Microsoft\n",
    "* Google has been in the top 4 over the indicated period\n",
    "* Apple was in the top 2 for 13 out of the 17 year period\n",
    "* Apple and Mcdonald's were both in the ranking 16 out of the 17-year span\n",
    "* It can be concluded that Google, Apple and Microsoft purformed the best during this time period\n",
    "\n",
    "### Further Study\n",
    "What are the qualities from the companies under investigation that has made their brands strong?"
   ]
  },
  {
   "cell_type": "markdown",
   "id": "5763ccaa-c147-4b55-8df2-1435775d19cf",
   "metadata": {},
   "source": [
    "### References ###\n",
    "* seaborn heatmap: ChatGPT, response to “best visualization for rankings,” April 12, 2025, ChatGPT, https://chatgpt.com/\n",
    "* reduce function: ChatGPT, response to “which value occurs in every row,” April 13, 2025, ChatGPT, https://chatgpt.com/\n"
   ]
  },
  {
   "cell_type": "code",
   "execution_count": null,
   "id": "20b4a571-6794-4b3c-b878-f28ed463c437",
   "metadata": {},
   "outputs": [],
   "source": []
  }
 ],
 "metadata": {
  "kernelspec": {
   "display_name": "Python [conda env:base] *",
   "language": "python",
   "name": "conda-base-py"
  },
  "language_info": {
   "codemirror_mode": {
    "name": "ipython",
    "version": 3
   },
   "file_extension": ".py",
   "mimetype": "text/x-python",
   "name": "python",
   "nbconvert_exporter": "python",
   "pygments_lexer": "ipython3",
   "version": "3.12.3"
  }
 },
 "nbformat": 4,
 "nbformat_minor": 5
}
