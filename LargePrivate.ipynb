{
 "cells": [
  {
   "cell_type": "code",
   "execution_count": 3,
   "id": "2f885349-8b7e-49fb-84f2-fbc28b8f70a5",
   "metadata": {},
   "outputs": [],
   "source": [
    "import requests\n",
    "from bs4 import BeautifulSoup as bs, Tag\n",
    "import re\n",
    "import pandas as pd\n",
    "import time"
   ]
  },
  {
   "cell_type": "code",
   "execution_count": 4,
   "id": "bf0ab0e4-202b-467f-acb2-b55cb95928bd",
   "metadata": {},
   "outputs": [],
   "source": [
    "url = 'https://en.wikipedia.org/wiki/List_of_largest_private_non-governmental_companies_by_revenue'\n",
    "page = requests.get(url)\n",
    "response = requests.get(url)\n",
    "html = response.text\n",
    "status = response.status_code\n",
    "if status == 200:\n",
    "    page = response.text\n",
    "    soup = bs(page)\n",
    "else:\n",
    "    print(f\"Oops! Received status code {status}\")"
   ]
  },
  {
   "cell_type": "code",
   "execution_count": 5,
   "id": "ea4cf640-0fa9-40cd-908b-a55a14475fa3",
   "metadata": {},
   "outputs": [],
   "source": [
    "table = soup.find_all('table')[0]"
   ]
  },
  {
   "cell_type": "code",
   "execution_count": 6,
   "id": "2e7bdd13-003e-4bf6-8eb5-763908053bc8",
   "metadata": {},
   "outputs": [],
   "source": [
    "headers = table.find_all('th')"
   ]
  },
  {
   "cell_type": "code",
   "execution_count": 7,
   "id": "059cf0ee-4355-4c1c-8675-084387c060eb",
   "metadata": {},
   "outputs": [
    {
     "data": {
      "text/plain": [
       "['No.', 'Company', 'Revenue (in billions of USD)', 'Headquarters', 'Founded']"
      ]
     },
     "execution_count": 7,
     "metadata": {},
     "output_type": "execute_result"
    }
   ],
   "source": [
    "headers = [title.text.strip() for title in headers]\n",
    "headers"
   ]
  },
  {
   "cell_type": "code",
   "execution_count": 8,
   "id": "ae48990b-9578-4386-9a9c-7c9900361bc6",
   "metadata": {},
   "outputs": [
    {
     "data": {
      "text/html": [
       "<div>\n",
       "<style scoped>\n",
       "    .dataframe tbody tr th:only-of-type {\n",
       "        vertical-align: middle;\n",
       "    }\n",
       "\n",
       "    .dataframe tbody tr th {\n",
       "        vertical-align: top;\n",
       "    }\n",
       "\n",
       "    .dataframe thead th {\n",
       "        text-align: right;\n",
       "    }\n",
       "</style>\n",
       "<table border=\"1\" class=\"dataframe\">\n",
       "  <thead>\n",
       "    <tr style=\"text-align: right;\">\n",
       "      <th></th>\n",
       "      <th>No.</th>\n",
       "      <th>Company</th>\n",
       "      <th>Revenue (in billions of USD)</th>\n",
       "      <th>Headquarters</th>\n",
       "      <th>Founded</th>\n",
       "    </tr>\n",
       "  </thead>\n",
       "  <tbody>\n",
       "  </tbody>\n",
       "</table>\n",
       "</div>"
      ],
      "text/plain": [
       "Empty DataFrame\n",
       "Columns: [No., Company, Revenue (in billions of USD), Headquarters, Founded]\n",
       "Index: []"
      ]
     },
     "execution_count": 8,
     "metadata": {},
     "output_type": "execute_result"
    }
   ],
   "source": [
    "df = pd.DataFrame(columns = headers)\n",
    "df"
   ]
  },
  {
   "cell_type": "code",
   "execution_count": 9,
   "id": "8ea6c928-a486-430a-b329-4c4d8c4141cb",
   "metadata": {},
   "outputs": [],
   "source": [
    "data_row = table.find_all('tr')\n"
   ]
  },
  {
   "cell_type": "code",
   "execution_count": 10,
   "id": "b000916d-21fc-47c1-8155-516006bd3398",
   "metadata": {},
   "outputs": [
    {
     "name": "stdout",
     "output_type": "stream",
     "text": [
      "[['1', 'Vitol', '400 (2023)', 'Switzerland', '1966'], ['2', 'Trafigura Group', '244.3 (2023)', 'Singapore', '1993'], ['3', 'Schwarz Group', '180.6 (2023)', 'Germany', '1930'], ['4', 'Cargill', '160 (2023/24)', 'United States', '1865'], ['5', 'Koch Industries', '125 (2021)', 'United States', '1940'], ['6', 'Aldi', '120.96 (2023)', 'Germany', '1946'], ['7', 'E.Leclerc', '102.98 (2023)', 'France', '1948'], ['8', 'Suning Holdings Group', '102.9 (2019/20)', 'China', '1990'], ['9', 'REWE Group', '99.69 (2023)', 'Germany', '1927'], ['10', 'Huawei', '99 (2023)', 'China', '1987'], ['11', 'Robert Bosch', '98.92 (2023)', 'Germany', '1886'], ['12', 'Amer International Group', '88.9 (2019)', 'China', '1995'], ['13', 'HNA Group', '88.5 (2018)', 'China', '2000'], ['14', 'ByteDance', '85.2 (2022) *', 'China', '2012'], ['15', 'State Farm', '82.2 (2021)', 'United States', '1922'], ['16', 'Hengli Group', '80.6 (2019)', 'China', '1994'], ['17', 'Pacific Construction Group', '77.07 (2021)', 'China', '1986'], ['18', 'Nippon Life Insurance', '74 (2019/20)', 'Japan', '1889'], ['19', 'INEOS', '65 (2021)', 'United Kingdom', '1998'], ['20', 'CMA CGM', '56 (2021)', 'France', '1978'], ['21', 'Auchan Holding', '54.7 (2019)', 'France', '1961'], ['22', 'Groupe BPCE', '47.9 (2019)', 'France', '2009'], ['23', 'Zheijiang Geely Holding Group', '47.89 (2019)', 'China', '1986'], ['24', 'Deloitte', '47.6 (2019/20)', 'United Kingdom', '1845'], ['25', 'Ingram Micro', '47.2 (2019)', 'United States', '1979'], ['26', 'SPAR', '46.98 (2022)', 'Netherlands', '1932'], ['27', 'IKEA', '45.4 (2018/19)', 'Sweden', '1943'], ['28', 'New York Life Insurance Company', '44.2 (2019)', 'United States', '1845'], ['29', 'Nationwide', '44 (2019)', 'United States', '1926'], ['30', 'Liberty Mutual Insurance Group', '43.2 (2019)', 'United States', '1912'], ['31', 'PricewaterhouseCoopers', '43 (2019/20)', 'United Kingdom', '1998'], ['32', 'Cedar Holdings Group', '41.3 (2019)', 'China', '1997'], ['33', 'ZF Friedrichshafen', '40.9 (2019)', 'Germany', '1915'], ['34', 'TIAA', '40.5 (2019)', 'United States', '1918'], ['35', 'Shandong Weiqiao Pioneering Group', '40.4 (2019)', 'China', '1951'], ['36', 'Edeka Zentrale', '39.8 (2019)', 'Germany', '1898'], ['37', 'DZ Bank', '39.1 (2019)', 'Germany', '2001'], ['38', 'Publix Super Markets', '38.5 (2019)', 'United States', '1930'], ['39', 'Tsingshan Holding Group', '38 (2019)', 'China', '1992'], ['40', 'Meiji Yasuda Life Insurance', '37.5 (2019/20)', 'Japan', '2004'], ['41', 'Massachusetts Mutual Life Insurance Company', '37.3 (2019)', 'United States', '1851'], ['42', 'Ernst & Young', '37.2 (2019/20)', 'United Kingdom', '1989'], ['43', 'Mars', '37 (2019)', 'United States', '1911'], ['44', 'Tech Data', '37 (2019/20)', 'United States', '1974'], ['45', 'Jiangsu Shagang Group', '36.5 (2019)', 'China', '1975'], ['46', 'Les Mousquetaires', '35.9 (2019)', 'France', '1969'], ['47', 'Yango Longking Group', '35.9 (2019)', 'China', '1995'], ['48', 'USAA', '35.6 (2019)', 'United States', '1922'], ['49', 'Reyes Holdings', '35 (2019)', 'United States', '1976'], ['50', 'Louis Dreyfus Company', '33.8 (2019)', 'France', '1851'], ['51', 'Northwestern Mutual', '32.3 (2019)', 'United States', '1857'], ['52', 'Groupe Casino', '32.1 (2021)', 'France', '1898'], ['53', 'Sumitomo Life Insurance', '32.1 (2019/20)', 'Japan', '1907'], ['54', 'Wanda Group', '31.7 (2018)', 'China', '1988'], ['55', 'H-E-B', '31.2 (2018/19)', 'United States', '1905'], ['56', 'Phoenix Pharma', '30.5 (2019/20)', 'Germany', '1994'], ['57', 'Pilot Flying J', '29.5 (2019)', 'United States', '1981'], ['58', 'Taikang Insurance Group', '29.5 (2019)', 'China', '1996'], ['59', 'Coop Group', '29.49 (2019)', 'Switzerland', '1969'], ['60', 'KPMG', '29.22(2020)', 'Netherlands', '1987'], ['61', 'Xinjiang Guanghui Industry Investment Group', '28.7 (2019)', 'China', '1989'], ['62', 'GS Caltex', '28.5 (2019)', 'South Korea', '1967'], ['63', 'Migros Group', '28.5 (2019)', 'Switzerland', '1925'], ['64', 'Huaxia Life Insurance', '28.49 (2019)', 'China', '2006'], ['65', 'Mercadona', '28 (2019)', 'Spain', '1977'], ['66', 'Achmea', '27.6 (2019)', 'Netherlands', '1995'], ['67', 'Hailiang Group', '27.2 (2019)', 'China', '1989'], ['68', 'EG Group', '26.5 (2020/21)', 'United Kingdom', '2001'], ['69', 'C&S Wholesale Grocers', '25.8 (2018/19)', 'United States', '1918'], ['70', 'Heraeus', '25.1 (2019)', 'Germany', '1851'], ['71', 'Massachusetts Mutual Life Insurance', '23.66 (2020)', 'United States', '1851'], ['72', 'Asda', '22.7 (2019/20)', 'United Kingdom', '1942'], ['73', 'Enterprise Holdings', '22.5 (2019/20)', 'United States', '1969'], ['74', 'Bechtel', '21.8 (2019)', 'United States', '1898'], ['75', 'Boehringer Ingelheim', '21.3 (2019)', 'Germany', '1885'], ['76', 'Cox Enterprises', '21.1 (2019)', 'United States', '1898'], ['77', 'Greenergy', '21.1 (2019)', 'United Kingdom', '1992'], ['78', 'Fidelity Investments', '20.9 (2019)', 'United States', '1946'], ['79', \"Love's Travel Stops & Country Stores\", '20.6 (2019)', 'United States', '1964'], ['80', \"Southern Glazer's Wine & Spirits\", '20 (2019)', 'United States', '1968'], ['81', 'Système U', '19.6 (2019)', 'France', '1894'], ['82', 'Wakefern Food Corporation', '19.6 (2022/23)', 'United States', '1946'], ['83', 'Meijer', '18.1 (2019/20)', 'United States', '1934'], ['84', 'Allied Universal', '18.0 (2020)', 'United States', '2016'], ['85', 'JM Family Enterprises', '17.7 (2019)', 'United States', '1968'], ['86', 'World Wide Technology', '17.0 (2022)', 'United States', '1990'], ['87', 'Swire', '16.3 (2021)', 'United Kingdom', '1816'], ['88', 'Subway', '16.1 (2019)', 'United States', '1965'], ['89', 'Chanel', '15.6 (2021)', 'France', '1910'], ['90', 'Gordon Food Service', '15.5 (2018/19)', 'United States', '1897'], ['91', 'Inspire Brands', '14.6 (2020)', 'United States', '2018'], ['92', 'John Lewis Partnership', '14.5 (2021/22)', 'United Kingdom', '1929'], ['93', 'Turner Construction', '14.4 (2020)', 'United States', '1901'], ['94', \"Land O' Lakes\", '13.95 (2020)', 'United States', '1921'], ['95', 'Medline Industries', '13.9 (2019)', 'United States', '1966'], ['96', \"Trader Joe's\", '13.7 (2019)', 'United States', '1958'], ['97', 'Allegis Group', '13.6 (2019)', 'United States', '1984'], ['98', 'The Guardian Life Insurance Company of America', '13.56 (2020)', 'United States', '1860'], ['99', 'American Family Insurance Group', '13.07 (2020)', 'United States', '1927'], ['100', 'Wawa', '13 (2019)', 'United States', '1964'], ['101', 'Kingston Technology', '12.8 (2019)', 'United States', '1985'], ['102', 'Racetrac', '12.6 (2019)', 'United States', '1934'], ['103', \"Kiewit Corporation (Peter Kiewit Sons')\", '12.46 (2020)', 'United States', '1932'], ['104', 'Farmers Insurance Exchange', '11.87 (2020)', 'United States', '1928'], ['105', 'ABC Supply', '11.6 (2019)', 'United States', '1982'], ['106', 'Hearst Corporation', '11.5 (2019)', 'United States', '1887'], ['107', 'Decathlon', '11.4 (2020)', 'France', '1976'], ['108', 'Chick-fil-A', '11.3 (2019)', 'United States', '1976'], ['109', 'QuikTrip', '11.2 (2019/20)', 'United States', '1958'], ['110', 'Mutual of Omaha Insurance', '11.1 (2020)', 'United States', '1909'], ['111', 'Republic National Distributing Company', '11.0 (2019)', 'United States', '1996'], ['112', 'Graybar', '11.0 (2023) **', 'United States', '1869'], ['113', 'SHI International Corp', '10.7 (2019)', 'United States', '1989'], ['114', 'Menards', '10.7 (2019)', 'United States', '1960'], ['115', 'Bloomberg', '10.5 (2019)', 'United States', '1981'], ['116', 'S. C. Johnson & Son', '10.5 (2019/20)', 'United States', '1886'], ['117', 'McKinsey', '10.5 (2019)', 'United States', '1929'], ['118', 'The Whiting-Turner Contracting Company', '10.3 (2019)', 'United States', '1909'], ['119', 'G4S', '10.3 (2024)', 'United Kingdom', '2004'], ['120', 'Jones Financial (Edward Jones)', '10.17 (2020)', 'United States', '1922'], ['121', 'Hy-Vee', '10.1 (2019', 'United States', '1930'], ['122', 'Calpine', '10.1 (2019)', 'United States', '1984'], ['123', 'Pacific Life', '10.06 (2020)', 'United States', '1868']]\n"
     ]
    }
   ],
   "source": [
    "def clean_citations(text):\n",
    "    return re.sub(r'\\[\\d+\\]', '', text).strip()\n",
    "\n",
    "cleaned_data = []\n",
    "\n",
    "for row in data_row[1:]:\n",
    "    if isinstance(row, str):\n",
    "        parsed = bs(row, 'html.parser')\n",
    "    elif isinstance(row, Tag):\n",
    "        parsed = row\n",
    "    else:\n",
    "        continue\n",
    "\n",
    "    row_data = parsed.find_all('td')\n",
    "    table_rows = [clean_citations(data.text) for data in row_data]\n",
    "    cleaned_data.append(table_rows)\n",
    "\n",
    "print(cleaned_data)"
   ]
  },
  {
   "cell_type": "code",
   "execution_count": 11,
   "id": "7cfabe3d-a079-40de-8c9f-6e5ecd1f7530",
   "metadata": {},
   "outputs": [],
   "source": [
    "for row in cleaned_data:\n",
    "    df.loc[len(df)] = row"
   ]
  },
  {
   "cell_type": "code",
   "execution_count": 12,
   "id": "d3697b2f-9fbb-47ed-8bb9-ac1a06d8a1dd",
   "metadata": {},
   "outputs": [
    {
     "data": {
      "text/html": [
       "<div>\n",
       "<style scoped>\n",
       "    .dataframe tbody tr th:only-of-type {\n",
       "        vertical-align: middle;\n",
       "    }\n",
       "\n",
       "    .dataframe tbody tr th {\n",
       "        vertical-align: top;\n",
       "    }\n",
       "\n",
       "    .dataframe thead th {\n",
       "        text-align: right;\n",
       "    }\n",
       "</style>\n",
       "<table border=\"1\" class=\"dataframe\">\n",
       "  <thead>\n",
       "    <tr style=\"text-align: right;\">\n",
       "      <th></th>\n",
       "      <th>No.</th>\n",
       "      <th>Company</th>\n",
       "      <th>Revenue (in billions of USD)</th>\n",
       "      <th>Headquarters</th>\n",
       "      <th>Founded</th>\n",
       "    </tr>\n",
       "  </thead>\n",
       "  <tbody>\n",
       "    <tr>\n",
       "      <th>0</th>\n",
       "      <td>1</td>\n",
       "      <td>Vitol</td>\n",
       "      <td>400 (2023)</td>\n",
       "      <td>Switzerland</td>\n",
       "      <td>1966</td>\n",
       "    </tr>\n",
       "    <tr>\n",
       "      <th>1</th>\n",
       "      <td>2</td>\n",
       "      <td>Trafigura Group</td>\n",
       "      <td>244.3 (2023)</td>\n",
       "      <td>Singapore</td>\n",
       "      <td>1993</td>\n",
       "    </tr>\n",
       "    <tr>\n",
       "      <th>2</th>\n",
       "      <td>3</td>\n",
       "      <td>Schwarz Group</td>\n",
       "      <td>180.6 (2023)</td>\n",
       "      <td>Germany</td>\n",
       "      <td>1930</td>\n",
       "    </tr>\n",
       "    <tr>\n",
       "      <th>3</th>\n",
       "      <td>4</td>\n",
       "      <td>Cargill</td>\n",
       "      <td>160 (2023/24)</td>\n",
       "      <td>United States</td>\n",
       "      <td>1865</td>\n",
       "    </tr>\n",
       "    <tr>\n",
       "      <th>4</th>\n",
       "      <td>5</td>\n",
       "      <td>Koch Industries</td>\n",
       "      <td>125 (2021)</td>\n",
       "      <td>United States</td>\n",
       "      <td>1940</td>\n",
       "    </tr>\n",
       "    <tr>\n",
       "      <th>...</th>\n",
       "      <td>...</td>\n",
       "      <td>...</td>\n",
       "      <td>...</td>\n",
       "      <td>...</td>\n",
       "      <td>...</td>\n",
       "    </tr>\n",
       "    <tr>\n",
       "      <th>118</th>\n",
       "      <td>119</td>\n",
       "      <td>G4S</td>\n",
       "      <td>10.3 (2024)</td>\n",
       "      <td>United Kingdom</td>\n",
       "      <td>2004</td>\n",
       "    </tr>\n",
       "    <tr>\n",
       "      <th>119</th>\n",
       "      <td>120</td>\n",
       "      <td>Jones Financial (Edward Jones)</td>\n",
       "      <td>10.17 (2020)</td>\n",
       "      <td>United States</td>\n",
       "      <td>1922</td>\n",
       "    </tr>\n",
       "    <tr>\n",
       "      <th>120</th>\n",
       "      <td>121</td>\n",
       "      <td>Hy-Vee</td>\n",
       "      <td>10.1 (2019</td>\n",
       "      <td>United States</td>\n",
       "      <td>1930</td>\n",
       "    </tr>\n",
       "    <tr>\n",
       "      <th>121</th>\n",
       "      <td>122</td>\n",
       "      <td>Calpine</td>\n",
       "      <td>10.1 (2019)</td>\n",
       "      <td>United States</td>\n",
       "      <td>1984</td>\n",
       "    </tr>\n",
       "    <tr>\n",
       "      <th>122</th>\n",
       "      <td>123</td>\n",
       "      <td>Pacific Life</td>\n",
       "      <td>10.06 (2020)</td>\n",
       "      <td>United States</td>\n",
       "      <td>1868</td>\n",
       "    </tr>\n",
       "  </tbody>\n",
       "</table>\n",
       "<p>123 rows × 5 columns</p>\n",
       "</div>"
      ],
      "text/plain": [
       "     No.                         Company Revenue (in billions of USD)  \\\n",
       "0      1                           Vitol                   400 (2023)   \n",
       "1      2                 Trafigura Group                 244.3 (2023)   \n",
       "2      3                   Schwarz Group                 180.6 (2023)   \n",
       "3      4                         Cargill                160 (2023/24)   \n",
       "4      5                 Koch Industries                   125 (2021)   \n",
       "..   ...                             ...                          ...   \n",
       "118  119                             G4S                  10.3 (2024)   \n",
       "119  120  Jones Financial (Edward Jones)                 10.17 (2020)   \n",
       "120  121                          Hy-Vee                   10.1 (2019   \n",
       "121  122                         Calpine                  10.1 (2019)   \n",
       "122  123                    Pacific Life                 10.06 (2020)   \n",
       "\n",
       "       Headquarters Founded  \n",
       "0       Switzerland    1966  \n",
       "1         Singapore    1993  \n",
       "2           Germany    1930  \n",
       "3     United States    1865  \n",
       "4     United States    1940  \n",
       "..              ...     ...  \n",
       "118  United Kingdom    2004  \n",
       "119   United States    1922  \n",
       "120   United States    1930  \n",
       "121   United States    1984  \n",
       "122   United States    1868  \n",
       "\n",
       "[123 rows x 5 columns]"
      ]
     },
     "execution_count": 12,
     "metadata": {},
     "output_type": "execute_result"
    }
   ],
   "source": [
    "df"
   ]
  },
  {
   "cell_type": "code",
   "execution_count": 13,
   "id": "7e4152df-b79f-4bd2-84af-1ee7fbd8f433",
   "metadata": {},
   "outputs": [],
   "source": [
    "df.to_csv(r'C:\\Users\\pmush\\OneDrive\\Desktop\\Data Science Prog\\webscrapping\\largeprivate.csv', index = False)"
   ]
  },
  {
   "cell_type": "code",
   "execution_count": 14,
   "id": "48ef85eb-3a2a-446b-b1c4-08f886fb12e9",
   "metadata": {},
   "outputs": [],
   "source": [
    "df = pd.read_csv('C:/Users/pmush/OneDrive/Desktop/Data Science Prog/webscrapping/largeprivate.csv')"
   ]
  },
  {
   "cell_type": "code",
   "execution_count": 30,
   "id": "a75ab725-bef2-4cfd-b625-662119c00a5a",
   "metadata": {},
   "outputs": [
    {
     "name": "stdout",
     "output_type": "stream",
     "text": [
      "Headquarters\n",
      "United States     62\n",
      "China             18\n",
      "Germany           10\n",
      "France            10\n",
      "United Kingdom    10\n",
      "Switzerland        3\n",
      "Japan              3\n",
      "Netherlands        3\n",
      "Singapore          1\n",
      "Sweden             1\n",
      "South Korea        1\n",
      "Spain              1\n",
      "Name: count, dtype: int64\n"
     ]
    }
   ],
   "source": [
    "counts = df['Headquarters'].value_counts()\n",
    "\n",
    "print(counts)"
   ]
  },
  {
   "cell_type": "markdown",
   "id": "b5238ac9-6575-4d84-b140-815f9b7aed90",
   "metadata": {},
   "source": [
    "## Question 5 ##\n",
    "#### What percentage are American companies in the largest private non-governmental companies? ####"
   ]
  },
  {
   "cell_type": "code",
   "execution_count": 32,
   "id": "6c09b8d4-259a-4da7-bfb1-c764e48a7ccb",
   "metadata": {},
   "outputs": [
    {
     "name": "stdout",
     "output_type": "stream",
     "text": [
      "Headquarters\n",
      "United States     50.406504\n",
      "China             14.634146\n",
      "Germany            8.130081\n",
      "France             8.130081\n",
      "United Kingdom     8.130081\n",
      "Switzerland        2.439024\n",
      "Japan              2.439024\n",
      "Netherlands        2.439024\n",
      "Singapore          0.813008\n",
      "Sweden             0.813008\n",
      "South Korea        0.813008\n",
      "Spain              0.813008\n",
      "Name: proportion, dtype: float64\n"
     ]
    }
   ],
   "source": [
    "percentages = df['Headquarters'].value_counts(normalize=True) * 100\n",
    "\n",
    "print(percentages)"
   ]
  },
  {
   "cell_type": "markdown",
   "id": "46e8433b-404e-49cb-a08e-dfd1a53c9635",
   "metadata": {},
   "source": [
    "### Answer ###\n",
    "* American companies make up 50% of the 123 Largest private non-governmental companies listed by revenue\n",
    "* the page was last edited on 8 April 2025"
   ]
  },
  {
   "cell_type": "markdown",
   "id": "4eab2f9d-2ddd-4630-8def-9b397f9b2835",
   "metadata": {},
   "source": [
    "### References ###\n",
    "count and percentage code: ChatGPT, response to “how to get count and percentage for one column,” April 12, 2025, ChatGPT, https://chatgpt.com/.\n",
    "\n",
    "clean citations code: ChatGPT, response to “how to remove citations from a table,” April 11, 2025, ChatGPT, https://chatgpt.com/."
   ]
  },
  {
   "cell_type": "markdown",
   "id": "ba1f8f3d-675f-4515-9b59-2c0b066dfa2f",
   "metadata": {},
   "source": []
  }
 ],
 "metadata": {
  "kernelspec": {
   "display_name": "Python [conda env:base] *",
   "language": "python",
   "name": "conda-base-py"
  },
  "language_info": {
   "codemirror_mode": {
    "name": "ipython",
    "version": 3
   },
   "file_extension": ".py",
   "mimetype": "text/x-python",
   "name": "python",
   "nbconvert_exporter": "python",
   "pygments_lexer": "ipython3",
   "version": "3.12.3"
  }
 },
 "nbformat": 4,
 "nbformat_minor": 5
}
